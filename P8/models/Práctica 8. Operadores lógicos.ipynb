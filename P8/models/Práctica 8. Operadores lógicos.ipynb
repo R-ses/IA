{
 "cells": [
  {
   "cell_type": "markdown",
   "metadata": {},
   "source": [
    "# Práctica 8. Redes Neuronales Artificiales"
   ]
  },
  {
   "cell_type": "code",
   "execution_count": 1,
   "metadata": {},
   "outputs": [
    {
     "name": "stderr",
     "output_type": "stream",
     "text": [
      "Using TensorFlow backend.\n"
     ]
    }
   ],
   "source": [
    "import numpy as np\n",
    "import pandas as pd\n",
    "import keras"
   ]
  },
  {
   "cell_type": "markdown",
   "metadata": {
    "collapsed": true
   },
   "source": [
    "# Uso de RNA para ejecutar la operación AND\n",
    "\n",
    "<img src='AND.png'>"
   ]
  },
  {
   "cell_type": "code",
   "execution_count": 4,
   "metadata": {},
   "outputs": [],
   "source": [
    "X_and = np.array([[0,0], [0,1], [1,0], [1,1]])\n",
    "y_and = np.array([[0], [0], [0], [1]])"
   ]
  },
  {
   "cell_type": "code",
   "execution_count": 59,
   "metadata": {},
   "outputs": [
    {
     "name": "stdout",
     "output_type": "stream",
     "text": [
      "Modelo resultante para la operación AND\n",
      "\n",
      "Input: [[0 0]]\n",
      "Predicted [[-0.13868546]]\n",
      "\n",
      "Input: [[0 1]]\n",
      "Predicted [[0.09021783]]\n",
      "\n",
      "Input: [[1 0]]\n",
      "Predicted [[0.09021783]]\n",
      "\n",
      "Input: [[1 1]]\n",
      "Predicted [[0.9564493]]\n"
     ]
    }
   ],
   "source": [
    "from keras.models import Sequential\n",
    "from keras.layers import Dense, Activation\n",
    "from keras import  optimizers\n",
    "\n",
    "model = Sequential()\n",
    "#Capa de entrada y oculta\n",
    "model.add(Dense(1, input_shape=(2,), kernel_initializer='random_uniform',\n",
    "                bias_initializer='zeros'))\n",
    "model.add(Activation('sigmoid'))\n",
    "\n",
    "#Capa de salida\n",
    "model.add(Dense(1))\n",
    "\n",
    "#Método de aprendizaje\n",
    "sgd = optimizers.SGD(lr=0.07, decay=1e-6, momentum=0.9, nesterov=True)\n",
    "\n",
    "model.compile(optimizer=sgd,\n",
    "              loss='mse',\n",
    "              metrics=['accuracy'])\n",
    "\n",
    "\n",
    "#Entrenamiento\n",
    "max_epochs = 500\n",
    "for i in range(max_epochs):\n",
    "    model.fit(x=X_and, y=y_and, verbose=False)\n",
    "\n",
    "\n",
    "y_pred = model.predict(np.array(X_and))\n",
    "\n",
    "print(\"Modelo resultante para la operación AND\")\n",
    "for input in X_and:\n",
    "    input = np.array([input])\n",
    "    print(\"\\nInput: {}\\nPredicted {}\".format(str(input), model.predict(input)))"
   ]
  },
  {
   "cell_type": "markdown",
   "metadata": {},
   "source": [
    "# Uso de RNA para ejecutar la operación OR\n",
    "<img src='OR.png'>"
   ]
  },
  {
   "cell_type": "code",
   "execution_count": 60,
   "metadata": {},
   "outputs": [],
   "source": [
    "X_or = np.array([[0,0], [0,1], [1,0], [1,1]])\n",
    "y_or = np.array([[0], [1], [1], [1]])"
   ]
  },
  {
   "cell_type": "code",
   "execution_count": 62,
   "metadata": {},
   "outputs": [
    {
     "name": "stdout",
     "output_type": "stream",
     "text": [
      "Modelo resultante para la operación OR\n",
      "\n",
      "Input: [[0 0]]\n",
      "Predicted [[0.00861204]]\n",
      "\n",
      "Input: [[0 1]]\n",
      "Predicted [[0.9654975]]\n",
      "\n",
      "Input: [[1 0]]\n",
      "Predicted [[0.96549726]]\n",
      "\n",
      "Input: [[1 1]]\n",
      "Predicted [[1.0606124]]\n"
     ]
    }
   ],
   "source": [
    "model = Sequential()\n",
    "#Capa de entrada y oculta\n",
    "model.add(Dense(1, input_shape=(2,), kernel_initializer='random_uniform',\n",
    "                bias_initializer='zeros'))\n",
    "model.add(Activation('sigmoid'))\n",
    "\n",
    "#Capa de salida\n",
    "model.add(Dense(1))\n",
    "\n",
    "#Método de aprendizaje\n",
    "sgd = optimizers.SGD(lr=0.07, decay=1e-6, momentum=0.9, nesterov=True)\n",
    "\n",
    "model.compile(optimizer=sgd,\n",
    "              loss='mse',\n",
    "              metrics=['accuracy'])\n",
    "\n",
    "\n",
    "#Entrenamiento\n",
    "max_epochs = 500\n",
    "for i in range(max_epochs):\n",
    "    model.fit(x=X_or, y=y_or, verbose=False)\n",
    "\n",
    "\n",
    "y_pred = model.predict(np.array(X_or))\n",
    "\n",
    "print(\"Modelo resultante para la operación OR\")\n",
    "for input in X_and:\n",
    "    input = np.array([input])\n",
    "    print(\"\\nInput: {}\\nPredicted: {}\".format(str(input), model.predict(input)))"
   ]
  },
  {
   "cell_type": "markdown",
   "metadata": {},
   "source": [
    "# Uso de RNA para ejecutar la operación XOR\n",
    "\n",
    "<img src='XOR.png'>\n",
    "\n",
    "## Una sola capa oculta"
   ]
  },
  {
   "cell_type": "code",
   "execution_count": 63,
   "metadata": {},
   "outputs": [],
   "source": [
    "X_xor = np.array([[0,0], [0,1], [1,0], [1,1]])\n",
    "y_xor = np.array([[0], [1], [1], [0]])"
   ]
  },
  {
   "cell_type": "code",
   "execution_count": 64,
   "metadata": {},
   "outputs": [
    {
     "name": "stdout",
     "output_type": "stream",
     "text": [
      "Modelo resultante para la operación OR\n",
      "\n",
      "Input: [[0 0]]\n",
      "Predicted: [[0.49999997]]\n",
      "\n",
      "Input: [[0 1]]\n",
      "Predicted: [[0.5]]\n",
      "\n",
      "Input: [[1 0]]\n",
      "Predicted: [[0.5]]\n",
      "\n",
      "Input: [[1 1]]\n",
      "Predicted: [[0.5]]\n"
     ]
    }
   ],
   "source": [
    "model = Sequential()\n",
    "#Capa de entrada y oculta\n",
    "model.add(Dense(1, input_shape=(2,), kernel_initializer='random_uniform',\n",
    "                bias_initializer='zeros'))\n",
    "model.add(Activation('sigmoid'))\n",
    "\n",
    "#Capa de salida\n",
    "model.add(Dense(1))\n",
    "\n",
    "#Método de aprendizaje\n",
    "sgd = optimizers.SGD(lr=0.07, decay=1e-6, momentum=0.9, nesterov=True)\n",
    "\n",
    "model.compile(optimizer=sgd,\n",
    "              loss='mse',\n",
    "              metrics=['accuracy'])\n",
    "\n",
    "\n",
    "#Entrenamiento\n",
    "max_epochs = 500\n",
    "for i in range(max_epochs):\n",
    "    model.fit(x=X_xor, y=y_xor, verbose=False)\n",
    "\n",
    "\n",
    "y_pred = model.predict(np.array(X_xor))\n",
    "\n",
    "print(\"Modelo resultante para la operación XOR\")\n",
    "for input in X_and:\n",
    "    input = np.array([input])\n",
    "    print(\"\\nInput: {}\\nPredicted: {}\".format(str(input), model.predict(input)))"
   ]
  },
  {
   "cell_type": "markdown",
   "metadata": {},
   "source": [
    "## Múltiples capas ocultas y función de activación no lineal"
   ]
  },
  {
   "cell_type": "code",
   "execution_count": 75,
   "metadata": {},
   "outputs": [
    {
     "name": "stdout",
     "output_type": "stream",
     "text": [
      "Modelo resultante para la operación XOR\n",
      "\n",
      "Input: [[0 0]]\n",
      "Predicted: [[0.]]\n",
      "\n",
      "Input: [[0 1]]\n",
      "Predicted: [[0.9999999]]\n",
      "\n",
      "Input: [[1 0]]\n",
      "Predicted: [[1.0000001]]\n",
      "\n",
      "Input: [[1 1]]\n",
      "Predicted: [[0.]]\n"
     ]
    }
   ],
   "source": [
    "model = Sequential()\n",
    "#Capa de entrada y oculta\n",
    "model.add(Dense(2, input_shape=(2,), kernel_initializer='random_uniform',\n",
    "                bias_initializer='zeros'))\n",
    "model.add(Activation('linear'))\n",
    "\n",
    "model.add(Dense(2))\n",
    "model.add(Activation('tanh'))\n",
    "\n",
    "#Capa de salida\n",
    "model.add(Dense(1))\n",
    "#Método de aprendizaje\n",
    "sgd = optimizers.SGD(lr=0.07, decay=1e-6, momentum=0.9, nesterov=True)\n",
    "\n",
    "model.compile(optimizer=sgd,\n",
    "              loss='mse',\n",
    "              metrics=['accuracy'])\n",
    "\n",
    "\n",
    "#Entrenamiento\n",
    "max_epochs = 500\n",
    "for i in range(max_epochs):\n",
    "    model.fit(x=X_xor, y=y_xor, verbose=False)\n",
    "\n",
    "\n",
    "y_pred = model.predict(np.array(X_xor))\n",
    "\n",
    "print(\"Modelo resultante para la operación XOR\")\n",
    "for input in X_and:\n",
    "    input = np.array([input])\n",
    "    print(\"\\nInput: {}\\nPredicted: {}\".format(str(input), model.predict(input)))"
   ]
  },
  {
   "cell_type": "code",
   "execution_count": 7,
   "metadata": {
    "collapsed": true
   },
   "outputs": [],
   "source": []
  },
  {
   "cell_type": "code",
   "execution_count": null,
   "metadata": {
    "collapsed": true
   },
   "outputs": [],
   "source": []
  }
 ],
 "metadata": {
  "kernelspec": {
   "display_name": "Python 3",
   "language": "python",
   "name": "python3"
  },
  "language_info": {
   "codemirror_mode": {
    "name": "ipython",
    "version": 3
   },
   "file_extension": ".py",
   "mimetype": "text/x-python",
   "name": "python",
   "nbconvert_exporter": "python",
   "pygments_lexer": "ipython3",
<<<<<<< HEAD
   "version": "3.6.6"
=======
   "version": "3.6.5"
>>>>>>> master
  }
 },
 "nbformat": 4,
 "nbformat_minor": 2
}
