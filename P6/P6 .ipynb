{
 "cells": [
  {
   "cell_type": "code",
   "execution_count": 17,
   "metadata": {},
   "outputs": [],
   "source": [
    "import numpy as np\n",
    "import matplotlib.pyplot as mp"
   ]
  },
  {
   "cell_type": "markdown",
   "metadata": {},
   "source": [
    "Ejercicio 1: Implementar el método de ajuste de parámetros, mínimos cuadrados, para encontrar los\n",
    "parámetros óptimos de una función lineal. Se deberá imprimir los puntos a ajustar (tabla 1) y\n",
    "la salida del modelo (una línea recta)."
   ]
  },
  {
   "cell_type": "code",
   "execution_count": 125,
   "metadata": {},
   "outputs": [],
   "source": [
    "D1 = [(1,0.5),(2,2.5),(3,2.0),(4,4.0),(5,3.5),(6,6.0),(7,5.5)]"
   ]
  },
  {
   "cell_type": "code",
   "execution_count": 126,
   "metadata": {
    "scrolled": true
   },
   "outputs": [
    {
     "name": "stdout",
     "output_type": "stream",
     "text": [
      "[(1, 0.5), (2, 2.5), (3, 2.0), (4, 4.0), (5, 3.5), (6, 6.0), (7, 5.5)]\n"
     ]
    }
   ],
   "source": [
    "print(list(D1))"
   ]
  },
  {
   "cell_type": "code",
   "execution_count": 210,
   "metadata": {},
   "outputs": [],
   "source": [
    "def Lin_reg(Dataset):\n",
    "    a,b = zip(*Dataset)\n",
    "    l = len(Dataset)\n",
    "    \n",
    "    XYs = 0\n",
    "    Xs = 0\n",
    "    X2s = 0\n",
    "    Ys = 0\n",
    "\n",
    "    for i in a:\n",
    "        XYs = (XYs) + ((i-1)*b[i-1])\n",
    "        Xs = Xs+b[i-1]\n",
    "        Ys = Ys+b[i-1]\n",
    "        X2s = X2s+(b[i-1]**2)\n",
    "    \n",
    "    Ym = Ys/l\n",
    "    Xm = Xs/l\n",
    "    T2 = ((l*XYs)-(Xs*Ys))/((l*X2s)-((Xs)*(Xs)))\n",
    "    T1 = Ym - (T2*Xm)\n",
    "    \n",
    "    print(T2,T1)\n",
    "    F_Lin_reg(T1,T2,Dataset)\n",
    "    \n",
    "def F_Lin_reg(T1,T2,Dataset):\n",
    "    Y = []\n",
    "    x = range(0,len(Dataset)+1) #Valores evaluados \"X\"\n",
    "    Z = []\n",
    "    a,b = zip(*Dataset)\n",
    "\n",
    "    for i in x:\n",
    "        Y.append((T1+(T2*i)))\n",
    "    \n",
    "    eSUM = 0\n",
    "    for n in a:\n",
    "        e = (b[n-1]-Y[n-1])**2\n",
    "        eSUM = eSUM + e\n",
    "    \n",
    "    print(eSUM)\n",
    "    \n",
    "    mp.plot(x,Y)\n",
    "    mp.stem(a,b)\n",
    "    mp.grid()\n",
    "    \n",
    "    \n",
    "    \n",
    "    "
   ]
  },
  {
   "cell_type": "code",
   "execution_count": 211,
   "metadata": {
    "scrolled": true
   },
   "outputs": [
    {
     "name": "stdout",
     "output_type": "stream",
     "text": [
      "0.5817610062893082 1.4339622641509433\n",
      "5.283147422965866\n"
     ]
    },
    {
     "data": {
      "image/png": "[encoded data removed]",
      "text/plain": [
       "<Figure size 432x288 with 1 Axes>"
      ]
     },
     "metadata": {},
     "output_type": "display_data"
    }
   ],
   "source": [
    "Lin_reg(D1)"
   ]
  },
  {
   "cell_type": "code",
   "execution_count": null,
   "metadata": {},
   "outputs": [],
   "source": []
  },
  {
   "cell_type": "code",
   "execution_count": null,
   "metadata": {},
   "outputs": [],
   "source": []
  }
 ],
 "metadata": {
  "kernelspec": {
   "display_name": "Python 3",
   "language": "python",
   "name": "python3"
  },
  "language_info": {
   "codemirror_mode": {
    "name": "ipython",
    "version": 3
   },
   "file_extension": ".py",
   "mimetype": "text/x-python",
   "name": "python",
   "nbconvert_exporter": "python",
   "pygments_lexer": "ipython3",
   "version": "3.6.5"
  }
 },
 "nbformat": 4,
 "nbformat_minor": 2
}
