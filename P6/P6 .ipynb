{
 "cells": [
  {
   "cell_type": "code",
<<<<<<< Updated upstream
   "execution_count": 3,
=======
   "execution_count": 16,
>>>>>>> Stashed changes
   "metadata": {},
   "outputs": [],
   "source": [
    "import numpy as np\n",
    "import matplotlib.pyplot as mp\n"
   ]
  },
  {
   "cell_type": "markdown",
   "metadata": {},
   "source": [
    "Ejercicio 1 y 2: Implementar el método de ajuste de parámetros, mínimos cuadrados, para encontrar los\n",
    "parámetros óptimos de una función lineal. Se deberá imprimir los puntos a ajustar (tabla 1) y\n",
    "la salida del modelo (una línea recta)."
   ]
  },
  {
   "cell_type": "code",
<<<<<<< Updated upstream
   "execution_count": 4,
=======
   "execution_count": 17,
>>>>>>> Stashed changes
   "metadata": {},
   "outputs": [],
   "source": [
    "D1 = ((1,0.5),(2,2.5),(3,2.0),(4,4.0),(5,3.5),(6,6.0),(7,5.5))"
   ]
  },
  {
   "cell_type": "code",
<<<<<<< Updated upstream
   "execution_count": 5,
   "metadata": {},
=======
   "execution_count": 18,
   "metadata": {
    "scrolled": true
   },
>>>>>>> Stashed changes
   "outputs": [
    {
     "name": "stdout",
     "output_type": "stream",
     "text": [
      "[(1, 0.5), (2, 2.5), (3, 2.0), (4, 4.0), (5, 3.5), (6, 6.0), (7, 5.5)]\n"
     ]
    }
   ],
   "source": [
    "print(list(D1))"
   ]
  },
  {
   "cell_type": "code",
<<<<<<< Updated upstream
   "execution_count": 8,
=======
   "execution_count": 19,
>>>>>>> Stashed changes
   "metadata": {},
   "outputs": [],
   "source": [
    "def Lin_reg(Dataset):\n",
    "    a,b = zip(*Dataset)\n",
    "    l = np.size(a)\n",
    "\n",
<<<<<<< Updated upstream
    "    x = np.array(list(a))\n",
    "    y = np.array(list(b))\n",
    "       \n",
    "    T1 = ((l*np.sum(x*y))-(np.sum(x)*np.sum(y)))/((l*np.sum(x**2))-np.sum(x)**2)\n",
    "    T0 = (np.sum(y)/l)-(T1*(np.sum(x)/l))\n",
=======
    "    for i in a:\n",
    "        XYs = (XYs) + ((i)*(b[i-1]))\n",
    "        Xs = Xs+(b[i-1])\n",
    "        Ys = Ys+(b[i-1])\n",
    "        X2s = X2s+(b[i-1]**2)\n",
>>>>>>> Stashed changes
    "    \n",
    "    \n",
    "   \n",
    "    \n",
    "    F_Lin_reg(T0,T1,Dataset)\n",
    "    \n",
    "\n",
    "    \n",
    "    \n",
    "def F_Lin_reg(T1,T2,Dataset):\n",
    "    Y = []\n",
    "    x = range(0,len(Dataset)+1) #Valores evaluados \"X\"\n",
    "    Z = []\n",
    "    a,b = zip(*Dataset)\n",
    "\n",
    "    for i in x:\n",
    "        Y.append((T1+(T2*i)))\n",
    "    \n",
    "    mp.plot(x,Y)\n",
    "    mp.stem(a,b)\n",
    "    mp.grid()\n",
    "    \n",
    "\n",
    "\n",
    "def log_reg(Dataset):\n",
    "    a,b = zip(*Dataset)\n",
    "    a1 = list(a)\n",
    "    b1 = list(b)\n",
    "    n = 0.001\n",
    "    T0 = 0\n",
    "    T1 = 0\n",
    "    Y = 0\n",
    "    \n",
    "    for i in range(100):\n",
    "        O = Grad_dec(b1,T0,T1,a1)\n",
    "        T0 = O[0]\n",
    "        T1 = O[1]\n",
    "    \n",
    "    \n",
    "    \n",
    "\n",
    "    \n",
    "def Grad_dec(yi,T0,T1,x):\n",
    "    \n",
    "    O = []\n",
    "    Y = np.sum(yi)\n",
    "    T0s = np.sum(T0)\n",
    "    T1s = np.sum(np.transpose(x)*T1)\n",
    "    \n",
    "    Yx = np.sum(np.transpose(yi)*x)\n",
    "    T0sx = np.sum(x)*T0\n",
    "    T1sx = np.sum(T1*(np.transpose(x)*x))\n",
    "       \n",
    "    \n",
    "    T1 = T1 - (-2*Yx-T0sx-T1sx)\n",
    "    T0 = T0 - (-2*Y-T0s-T1s)\n",
    "    \n",
    "    print(T0)\n",
    "    print(T1)\n",
    "    \n",
    "    O.append(T0)\n",
    "    O.append(T1) \n",
    "    \n",
    "    return O\n",
    "    \n",
    "    \n",
    "    \n",
    "    \n",
    "    \n",
    "                                               "
   ]
  },
  {
   "cell_type": "code",
<<<<<<< Updated upstream
   "execution_count": 9,
   "metadata": {},
=======
   "execution_count": 20,
   "metadata": {
    "scrolled": true
   },
>>>>>>> Stashed changes
   "outputs": [
    {
     "name": "stdout",
     "output_type": "stream",
     "text": [
<<<<<<< Updated upstream
      "48.0\n",
      "239.0\n",
      "6836.0\n",
      "35282.0\n",
      "1001616.0\n",
      "5166409.0\n",
      "146662732.0\n",
      "756509156.0\n",
      "21475581880.0\n",
      "110774347731.0\n",
      "3144632900276.0\n",
      "16220499322950.0\n",
      "460463246843200.0\n",
      "2375140125743917.0\n",
      "6.742485001451613e+16\n",
      "3.4778772864150214e+17\n",
      "9.87290610199109e+18\n",
      "5.092596553885825e+19\n",
      "1.4456728472920132e+21\n",
      "7.457002511834764e+21\n",
      "2.116874160259574e+23\n",
      "1.0919161938928782e+24\n",
      "3.0997028261052505e+25\n",
      "1.5988743098762264e+26\n",
      "4.538842124175539e+27\n",
      "2.341204456056426e+28\n",
      "6.646149319441505e+29\n",
      "3.428185862516476e+30\n",
      "9.731843401434963e+31\n",
      "5.019834247092594e+32\n",
      "1.4250172759887962e+34\n",
      "7.350457903640736e+34\n",
      "2.0866285585391818e+36\n",
      "1.07631504814103e+37\n",
      "3.0554147059656678e+38\n",
      "1.5760298175179496e+39\n",
      "4.473991783169573e+40\n",
      "2.3077536544673476e+41\n",
      "6.551190068171966e+42\n",
      "3.379204422727708e+43\n",
      "9.592796185001022e+44\n",
      "4.9481115579548836e+45\n",
      "1.4046568285973696e+47\n",
      "7.245435589896415e+47\n",
      "2.0568151017429437e+49\n",
      "1.060936809376121e+50\n",
      "3.0117593682879974e+51\n",
      "1.553511724069133e+52\n",
      "4.410068014759332e+53\n",
      "2.274780793249541e+54\n",
      "6.457587581393901e+55\n",
      "3.3309228228951144e+56\n",
      "9.455735655734197e+57\n",
      "4.8774136325611406e+58\n",
      "1.3845872884285877e+60\n",
      "7.141913820271765e+60\n",
      "2.027427615444666e+62\n",
      "1.0457782927343195e+63\n",
      "2.968727771964988e+64\n",
      "1.5313153659878412e+65\n",
      "4.347057580205255e+66\n",
      "2.242279043657876e+67\n",
      "6.365322473846157e+68\n",
      "3.283331063803352e+69\n",
      "9.32063342812631e+70\n",
      "4.807725829230419e+71\n",
      "1.36480449904077e+73\n",
      "7.039871155202428e+73\n",
      "1.9984600134374948e+75\n",
      "1.0308363588566838e+76\n",
      "2.926311005067464e+77\n",
      "1.509436146364174e+78\n",
      "4.284947429921037e+79\n",
      "2.2102416745153742e+80\n",
      "6.274375637241468e+81\n",
      "3.236419289104466e+82\n",
      "9.187461522237332e+83\n",
      "4.7390337154800576e+84\n",
      "1.3453043633788907e+86\n",
      "6.939286461449526e+86\n",
      "1.9699062964734454e+88\n",
      "1.0161079132389921e+89\n",
      "2.8845002829986474e+90\n",
      "1.4878695339682354e+91\n",
      "4.223724700771032e+92\n",
      "2.1786620508191743e+93\n",
      "6.1847282363091085e+94\n",
      "3.190177783276625e+95\n",
      "9.056192357900732e+96\n",
      "4.671323065036696e+97\n",
      "1.3260828429260762e+99\n",
      "6.840138907722962e+99\n",
      "1.941760551020951e+101\n",
      "1.0015899055908679e+102\n",
      "2.843286946674849e+103\n",
      "1.46661106231171e+104\n",
      "4.1633767134062846e+105\n",
      "2.147533632366407e+106\n",
      "6.096361704894064e+107\n",
      "3.1445969696120097e+108\n",
      "8.926798749011509e+109\n",
      "4.604579854889967e+110\n",
      "1.3071359568672138e+112\n",
      "6.742407960367176e+112\n",
      "1.9140169480401534e+114\n",
      "9.872793292040537e+114\n",
      "2.8026624607321535e+116\n",
      "1.44565632872284e+117\n",
      "4.103890969638595e+118\n",
      "2.1168499723997048e+119\n",
      "6.009257742111945e+120\n",
      "3.099667408233464e+121\n",
      "8.799253897895939e+122\n",
      "4.538790262388319e+123\n",
      "1.2884597812645212e+125\n",
      "6.646073379108616e+125\n",
      "1.8866697417757032e+127\n",
      "9.731732203297217e+127\n",
      "2.762618411758735e+129\n",
      "1.4250009934346272e+130\n",
      "4.0452551498521305e+131\n",
      "2.086604716272069e+132\n",
      "5.923398308558836e+133\n",
      "3.055379794139477e+134\n",
      "8.673531389761713e+135\n",
      "4.4739406623763096e+136\n",
      "1.27005044824489e+138\n",
      "6.551115212863924e+138\n",
      "1.8597132685667968e+140\n",
      "9.592686575646702e+140\n",
      "2.723146506552412e+142\n",
      "1.404640778686055e+143\n",
      "3.987457110452003e+144\n",
      "2.0567916001308053e+145\n",
      "5.8387656225752945e+146\n",
      "3.0117249552770915e+147\n",
      "8.549605187227361e+148\n",
      "4.410017624372808e+149\n",
      "1.2519041451988408e+151\n",
      "6.457513795608026e+151\n",
      "1.8331419456742243e+153\n",
      "9.455627612462992e+153\n",
      "2.6842385704031223e+155\n",
      "1.3845714678361603e+156\n",
      "3.930484881349311e+157\n",
      "2.0274044496202733e+158\n",
      "5.755342156563752e+159\n",
      "2.9686938506423665e+160\n",
      "8.427449624929901e+161\n",
      "4.3470079097895215e+162\n",
      "1.2340171139909257e+164\n",
      "6.365249742301264e+164\n",
      "1.8069502701241722e+166\n",
      "9.320526928562242e+166\n",
      "2.645886545399911e+168\n",
      "1.3647889044907528e+169\n",
      "3.874326663482106e+170\n",
      "1.998437178603159e+171\n",
      "5.673110633358487e+172\n",
      "2.9262775684079534e+173\n",
      "8.30703940420944e+174\n",
      "4.2848984691892515e+175\n",
      "1.2163856501814094e+177\n",
      "6.274303944874709e+177\n",
      "1.7811328175685468e+179\n",
      "9.187356544324134e+179\n",
      "2.6080824887621284e+181\n",
      "1.3452889916416224e+182\n",
      "3.8189708263717853e+183\n",
      "1.9698837879000275e+184\n",
      "5.592054022647513e+185\n",
      "2.884467324077449e+186\n",
      "8.188349587869808e+187\n",
      "4.223676439583333e+188\n",
      "1.199006102259073e+190\n",
      "6.1846575682728535e+190\n",
      "1.7556842411615806e+192\n",
      "9.056088879897263e+192\n",
      "2.570818571194465e+194\n",
      "1.3260676908180383e+195\n",
      "3.764405905714397e+196\n",
      "1.941738364046879e+197\n",
      "5.51215553744555e+198\n",
      "2.8432544586661024e+199\n",
      "8.071355595013998e+200\n",
      "4.1633291417676797e+201\n",
      "1.1818748708849787e+203\n",
      "6.0962920465528204e+203\n",
      "1.7305992704524895e+205\n",
      "8.92669674948727e+205\n",
      "2.5340870752654852e+207\n",
      "1.3071210212503748e+208\n",
      "3.71062060100636e+209\n",
      "1.913995078070462e+210\n",
      "5.433398630617421e+211\n",
      "2.8026304369075292e+212\n",
      "7.956033195953429e+213\n",
      "4.1038440776969037e+214\n",
      "1.1649884081470398e+216\n",
      "6.00918907903933e+216\n"
=======
      "1.6383647798742138 -2.188679245283019\n",
      "24.321001938214465\n"
>>>>>>> Stashed changes
     ]
    },
    {
     "data": {
<<<<<<< Updated upstream
      "image/png": "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\n",
=======
      "image/png": "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\n",
>>>>>>> Stashed changes
      "text/plain": [
       "<Figure size 432x288 with 1 Axes>"
      ]
     },
     "metadata": {},
     "output_type": "display_data"
    }
   ],
   "source": [
    "Lin_reg(D1)\n",
    "log_reg(D1)"
   ]
  },
  {
   "cell_type": "code",
   "execution_count": null,
   "metadata": {},
   "outputs": [],
   "source": []
  },
  {
   "cell_type": "code",
   "execution_count": null,
   "metadata": {},
   "outputs": [],
   "source": []
  },
  {
   "cell_type": "code",
   "execution_count": null,
   "metadata": {},
   "outputs": [],
   "source": []
  },
  {
   "cell_type": "code",
   "execution_count": null,
   "metadata": {},
   "outputs": [],
   "source": []
  }
 ],
 "metadata": {
  "kernelspec": {
   "display_name": "Python 3",
   "language": "python",
   "name": "python3"
  },
  "language_info": {
   "codemirror_mode": {
    "name": "ipython",
    "version": 3
   },
   "file_extension": ".py",
   "mimetype": "text/x-python",
   "name": "python",
   "nbconvert_exporter": "python",
   "pygments_lexer": "ipython3",
   "version": "3.6.5"
  }
 },
 "nbformat": 4,
 "nbformat_minor": 2
}
