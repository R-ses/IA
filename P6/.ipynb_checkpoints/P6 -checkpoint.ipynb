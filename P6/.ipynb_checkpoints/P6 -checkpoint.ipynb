{
 "cells": [
  {
   "cell_type": "code",
   "execution_count": 1,
   "metadata": {},
   "outputs": [],
   "source": [
    "import numpy as np\n",
    "import matplotlib.pyplot as mp\n"
   ]
  },
  {
   "cell_type": "markdown",
   "metadata": {},
   "source": [
    "Ejercicio 1 y 2: Implementar el método de ajuste de parámetros, mínimos cuadrados, para encontrar los\n",
    "parámetros óptimos de una función lineal. Se deberá imprimir los puntos a ajustar (tabla 1) y\n",
    "la salida del modelo (una línea recta)."
   ]
  },
  {
   "cell_type": "code",
   "execution_count": 2,
   "metadata": {},
   "outputs": [],
   "source": [
    "D1 = ((1,0.5),(2,2.5),(3,2.0),(4,4.0),(5,3.5),(6,6.0),(7,5.5))"
   ]
  },
  {
   "cell_type": "code",
   "execution_count": 3,
   "metadata": {},
   "outputs": [
    {
     "name": "stdout",
     "output_type": "stream",
     "text": [
      "[(1, 0.5), (2, 2.5), (3, 2.0), (4, 4.0), (5, 3.5), (6, 6.0), (7, 5.5)]\n"
     ]
    }
   ],
   "source": [
    "print(list(D1))"
   ]
  },
  {
   "cell_type": "code",
   "execution_count": 4,
   "metadata": {},
   "outputs": [],
   "source": [
    "def Lin_reg(Dataset):\n",
    "    a,b = zip(*Dataset)\n",
    "    l = np.size(a)\n",
    "\n",
    "    x = np.array(list(a))\n",
    "    y = np.array(list(b))\n",
    "       \n",
    "    T1 = ((l*np.sum(x*y))-(np.sum(x)*np.sum(y)))/((l*np.sum(x**2))-np.sum(x)**2)\n",
    "    T0 = (np.sum(y)/l)-(T1*(np.sum(x)/l))\n",
    "    \n",
    "    \n",
    "    print(T0,T1)\n",
    "    \n",
    "    F_Lin_reg(T0,T1,Dataset)\n",
    "    \n",
    "\n",
    "    \n",
    "    \n",
    "def F_Lin_reg(T1,T2,Dataset):\n",
    "    Y = []\n",
    "    x = range(0,len(Dataset)+1) #Valores evaluados \"X\"\n",
    "    Z = []\n",
    "    a,b = zip(*Dataset)\n",
    "\n",
    "    for i in x:\n",
    "        Y.append((T1+(T2*i)))\n",
    "    \n",
    "    mp.plot(x,Y)\n",
    "    mp.stem(a,b)\n",
    "    mp.grid()\n",
    "    \n",
    "\n",
    "\n",
    "def log_reg(Dataset):\n",
    "    a,b = zip(*Dataset)\n",
    "    n = 0.001\n",
    "    T0 = 0\n",
    "    T1 = 0\n",
    "    \n",
    "    for i in range(100):\n",
    "        O = Grad_dec(b,T0,T1,a)\n",
    "        \n",
    "    \n",
    "       \n",
    "    \n",
    "def Grad_dec(yi,T0,T1,x):\n",
    "    \n",
    "    T1 = -2*np.sum(yi-T0-(T1*x)*x)\n",
    "    T0 = -2*np.sum(yi-T0-(T1*x))\n",
    "    \n",
    "    \n",
    "    \n",
    "    \n",
    "    \n",
    "    \n",
    "                                               "
   ]
  },
  {
   "cell_type": "code",
   "execution_count": 5,
   "metadata": {
    "scrolled": true
   },
   "outputs": [
    {
     "name": "stdout",
     "output_type": "stream",
     "text": [
      "0.07142857142857117 0.8392857142857143\n"
     ]
    },
    {
     "data": {
      "image/png": "[encoded data removed]",
      "text/plain": [
       "<Figure size 432x288 with 1 Axes>"
      ]
     },
     "metadata": {},
     "output_type": "display_data"
    }
   ],
   "source": [
    "Lin_reg(D1)"
   ]
  },
  {
   "cell_type": "code",
   "execution_count": null,
   "metadata": {},
   "outputs": [],
   "source": []
  },
  {
   "cell_type": "code",
   "execution_count": null,
   "metadata": {},
   "outputs": [],
   "source": []
  },
  {
   "cell_type": "code",
   "execution_count": null,
   "metadata": {},
   "outputs": [],
   "source": []
  },
  {
   "cell_type": "code",
   "execution_count": null,
   "metadata": {},
   "outputs": [],
   "source": []
  }
 ],
 "metadata": {
  "kernelspec": {
   "display_name": "Python 3",
   "language": "python",
   "name": "python3"
  },
  "language_info": {
   "codemirror_mode": {
    "name": "ipython",
    "version": 3
   },
   "file_extension": ".py",
   "mimetype": "text/x-python",
   "name": "python",
   "nbconvert_exporter": "python",
   "pygments_lexer": "ipython3",
   "version": "3.6.5"
  }
 },
 "nbformat": 4,
 "nbformat_minor": 2
}
