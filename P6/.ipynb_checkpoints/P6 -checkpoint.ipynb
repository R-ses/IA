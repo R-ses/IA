{
 "cells": [
  {
   "cell_type": "code",
<<<<<<< Updated upstream
   "execution_count": 3,
=======
   "execution_count": 11,
>>>>>>> Stashed changes
   "metadata": {},
   "outputs": [],
   "source": [
    "import numpy as np\n",
<<<<<<< Updated upstream
    "import matplotlib.pyplot as mp\n"
=======
    "import matplotlib.pyplot as mp"
>>>>>>> Stashed changes
   ]
  },
  {
   "cell_type": "markdown",
   "metadata": {},
   "source": [
<<<<<<< Updated upstream
    "Ejercicio 1 y 2: Implementar el método de ajuste de parámetros, mínimos cuadrados, para encontrar los\n",
=======
    "Ejercicio 1: Implementar el método de ajuste de parámetros, mínimos cuadrados, para encontrar los\n",
>>>>>>> Stashed changes
    "parámetros óptimos de una función lineal. Se deberá imprimir los puntos a ajustar (tabla 1) y\n",
    "la salida del modelo (una línea recta)."
   ]
  },
  {
   "cell_type": "code",
<<<<<<< Updated upstream
   "execution_count": 4,
   "metadata": {},
   "outputs": [],
   "source": [
    "D1 = ((1,0.5),(2,2.5),(3,2.0),(4,4.0),(5,3.5),(6,6.0),(7,5.5))"
=======
   "execution_count": 12,
   "metadata": {},
   "outputs": [],
   "source": [
    "D1 = [(1,0.5),(2,2.5),(3,2.0),(4,4.0),(5,3.5),(6,6.0),(7,5.5)]"
>>>>>>> Stashed changes
   ]
  },
  {
   "cell_type": "code",
<<<<<<< Updated upstream
   "execution_count": 5,
   "metadata": {},
=======
   "execution_count": 13,
   "metadata": {
    "scrolled": true
   },
>>>>>>> Stashed changes
   "outputs": [
    {
     "name": "stdout",
     "output_type": "stream",
     "text": [
      "[(1, 0.5), (2, 2.5), (3, 2.0), (4, 4.0), (5, 3.5), (6, 6.0), (7, 5.5)]\n"
     ]
    }
   ],
   "source": [
    "print(list(D1))"
   ]
  },
  {
   "cell_type": "code",
<<<<<<< Updated upstream
   "execution_count": 8,
=======
   "execution_count": 14,
>>>>>>> Stashed changes
   "metadata": {},
   "outputs": [],
   "source": [
    "def Lin_reg(Dataset):\n",
    "    a,b = zip(*Dataset)\n",
<<<<<<< Updated upstream
    "    l = np.size(a)\n",
    "\n",
    "    x = np.array(list(a))\n",
    "    y = np.array(list(b))\n",
    "       \n",
    "    T1 = ((l*np.sum(x*y))-(np.sum(x)*np.sum(y)))/((l*np.sum(x**2))-np.sum(x)**2)\n",
    "    T0 = (np.sum(y)/l)-(T1*(np.sum(x)/l))\n",
    "    \n",
    "    \n",
    "   \n",
    "    \n",
    "    F_Lin_reg(T0,T1,Dataset)\n",
    "    \n",
    "\n",
    "    \n",
=======
    "    l = len(Dataset)\n",
    "    \n",
    "    XYs = 0\n",
    "    Xs = 0\n",
    "    X2s = 0\n",
    "    Ys = 0\n",
    "\n",
    "    for i in a:\n",
    "        XYs = (XYs) + ((i)*(b[i-1]))\n",
    "        Xs = Xs+(b[i-1])\n",
    "        Ys = Ys+(b[i-1])\n",
    "        X2s = X2s+(b[i-1]**2)\n",
    "    \n",
    "    Ym = Ys/l\n",
    "    Xm = Xs/l\n",
    "    T2 = ((l*XYs)-(Xs*Ys))/((l*X2s)-((Xs)*(Xs)))\n",
    "    T1 = Ym - (T2*Xm)\n",
    "    \n",
    "    print(T2,T1)\n",
    "    F_Lin_reg(T1,T2,Dataset)\n",
>>>>>>> Stashed changes
    "    \n",
    "def F_Lin_reg(T1,T2,Dataset):\n",
    "    Y = []\n",
    "    x = range(0,len(Dataset)+1) #Valores evaluados \"X\"\n",
    "    Z = []\n",
    "    a,b = zip(*Dataset)\n",
    "\n",
    "    for i in x:\n",
    "        Y.append((T1+(T2*i)))\n",
    "    \n",
<<<<<<< Updated upstream
=======
    "    eSUM = 0\n",
    "    for n in a:\n",
    "        e = (b[n-1]-Y[n-1])**2\n",
    "        eSUM = eSUM + e\n",
    "    \n",
    "    print(eSUM)\n",
    "    \n",
>>>>>>> Stashed changes
    "    mp.plot(x,Y)\n",
    "    mp.stem(a,b)\n",
    "    mp.grid()\n",
    "    \n",
<<<<<<< Updated upstream
    "\n",
    "\n",
    "def log_reg(Dataset):\n",
    "    a,b = zip(*Dataset)\n",
    "    a1 = list(a)\n",
    "    b1 = list(b)\n",
    "    n = 0.001\n",
    "    T0 = 0\n",
    "    T1 = 0\n",
    "    Y = 0\n",
    "    \n",
    "    for i in range(100):\n",
    "        O = Grad_dec(b1,T0,T1,a1)\n",
    "        T0 = O[0]\n",
    "        T1 = O[1]\n",
    "    \n",
    "    \n",
    "    \n",
    "\n",
    "    \n",
    "def Grad_dec(yi,T0,T1,x):\n",
    "    \n",
    "    O = []\n",
    "    Y = np.sum(yi)\n",
    "    T0s = np.sum(T0)\n",
    "    T1s = np.sum(np.transpose(x)*T1)\n",
    "    \n",
    "    Yx = np.sum(np.transpose(yi)*x)\n",
    "    T0sx = np.sum(x)*T0\n",
    "    T1sx = np.sum(T1*(np.transpose(x)*x))\n",
    "       \n",
    "    \n",
    "    T1 = T1 - (-2*Yx-T0sx-T1sx)\n",
    "    T0 = T0 - (-2*Y-T0s-T1s)\n",
    "    \n",
    "    print(T0)\n",
    "    print(T1)\n",
    "    \n",
    "    O.append(T0)\n",
    "    O.append(T1) \n",
    "    \n",
    "    return O\n",
    "    \n",
    "    \n",
    "    \n",
    "    \n",
    "    \n",
    "                                               "
=======
    "    \n",
    "    \n",
    "    "
>>>>>>> Stashed changes
   ]
  },
  {
   "cell_type": "code",
<<<<<<< Updated upstream
   "execution_count": 9,
   "metadata": {},
=======
   "execution_count": 15,
   "metadata": {
    "scrolled": true
   },
>>>>>>> Stashed changes
   "outputs": [
    {
     "name": "stdout",
     "output_type": "stream",
     "text": [
<<<<<<< Updated upstream
      "48.0\n",
      "239.0\n",
      "6836.0\n",
      "35282.0\n",
      "1001616.0\n",
      "5166409.0\n",
      "146662732.0\n",
      "756509156.0\n",
      "21475581880.0\n",
      "110774347731.0\n",
      "3144632900276.0\n",
      "16220499322950.0\n",
      "460463246843200.0\n",
      "2375140125743917.0\n",
      "6.742485001451613e+16\n",
      "3.4778772864150214e+17\n",
      "9.87290610199109e+18\n",
      "5.092596553885825e+19\n",
      "1.4456728472920132e+21\n",
      "7.457002511834764e+21\n",
      "2.116874160259574e+23\n",
      "1.0919161938928782e+24\n",
      "3.0997028261052505e+25\n",
      "1.5988743098762264e+26\n",
      "4.538842124175539e+27\n",
      "2.341204456056426e+28\n",
      "6.646149319441505e+29\n",
      "3.428185862516476e+30\n",
      "9.731843401434963e+31\n",
      "5.019834247092594e+32\n",
      "1.4250172759887962e+34\n",
      "7.350457903640736e+34\n",
      "2.0866285585391818e+36\n",
      "1.07631504814103e+37\n",
      "3.0554147059656678e+38\n",
      "1.5760298175179496e+39\n",
      "4.473991783169573e+40\n",
      "2.3077536544673476e+41\n",
      "6.551190068171966e+42\n",
      "3.379204422727708e+43\n",
      "9.592796185001022e+44\n",
      "4.9481115579548836e+45\n",
      "1.4046568285973696e+47\n",
      "7.245435589896415e+47\n",
      "2.0568151017429437e+49\n",
      "1.060936809376121e+50\n",
      "3.0117593682879974e+51\n",
      "1.553511724069133e+52\n",
      "4.410068014759332e+53\n",
      "2.274780793249541e+54\n",
      "6.457587581393901e+55\n",
      "3.3309228228951144e+56\n",
      "9.455735655734197e+57\n",
      "4.8774136325611406e+58\n",
      "1.3845872884285877e+60\n",
      "7.141913820271765e+60\n",
      "2.027427615444666e+62\n",
      "1.0457782927343195e+63\n",
      "2.968727771964988e+64\n",
      "1.5313153659878412e+65\n",
      "4.347057580205255e+66\n",
      "2.242279043657876e+67\n",
      "6.365322473846157e+68\n",
      "3.283331063803352e+69\n",
      "9.32063342812631e+70\n",
      "4.807725829230419e+71\n",
      "1.36480449904077e+73\n",
      "7.039871155202428e+73\n",
      "1.9984600134374948e+75\n",
      "1.0308363588566838e+76\n",
      "2.926311005067464e+77\n",
      "1.509436146364174e+78\n",
      "4.284947429921037e+79\n",
      "2.2102416745153742e+80\n",
      "6.274375637241468e+81\n",
      "3.236419289104466e+82\n",
      "9.187461522237332e+83\n",
      "4.7390337154800576e+84\n",
      "1.3453043633788907e+86\n",
      "6.939286461449526e+86\n",
      "1.9699062964734454e+88\n",
      "1.0161079132389921e+89\n",
      "2.8845002829986474e+90\n",
      "1.4878695339682354e+91\n",
      "4.223724700771032e+92\n",
      "2.1786620508191743e+93\n",
      "6.1847282363091085e+94\n",
      "3.190177783276625e+95\n",
      "9.056192357900732e+96\n",
      "4.671323065036696e+97\n",
      "1.3260828429260762e+99\n",
      "6.840138907722962e+99\n",
      "1.941760551020951e+101\n",
      "1.0015899055908679e+102\n",
      "2.843286946674849e+103\n",
      "1.46661106231171e+104\n",
      "4.1633767134062846e+105\n",
      "2.147533632366407e+106\n",
      "6.096361704894064e+107\n",
      "3.1445969696120097e+108\n",
      "8.926798749011509e+109\n",
      "4.604579854889967e+110\n",
      "1.3071359568672138e+112\n",
      "6.742407960367176e+112\n",
      "1.9140169480401534e+114\n",
      "9.872793292040537e+114\n",
      "2.8026624607321535e+116\n",
      "1.44565632872284e+117\n",
      "4.103890969638595e+118\n",
      "2.1168499723997048e+119\n",
      "6.009257742111945e+120\n",
      "3.099667408233464e+121\n",
      "8.799253897895939e+122\n",
      "4.538790262388319e+123\n",
      "1.2884597812645212e+125\n",
      "6.646073379108616e+125\n",
      "1.8866697417757032e+127\n",
      "9.731732203297217e+127\n",
      "2.762618411758735e+129\n",
      "1.4250009934346272e+130\n",
      "4.0452551498521305e+131\n",
      "2.086604716272069e+132\n",
      "5.923398308558836e+133\n",
      "3.055379794139477e+134\n",
      "8.673531389761713e+135\n",
      "4.4739406623763096e+136\n",
      "1.27005044824489e+138\n",
      "6.551115212863924e+138\n",
      "1.8597132685667968e+140\n",
      "9.592686575646702e+140\n",
      "2.723146506552412e+142\n",
      "1.404640778686055e+143\n",
      "3.987457110452003e+144\n",
      "2.0567916001308053e+145\n",
      "5.8387656225752945e+146\n",
      "3.0117249552770915e+147\n",
      "8.549605187227361e+148\n",
      "4.410017624372808e+149\n",
      "1.2519041451988408e+151\n",
      "6.457513795608026e+151\n",
      "1.8331419456742243e+153\n",
      "9.455627612462992e+153\n",
      "2.6842385704031223e+155\n",
      "1.3845714678361603e+156\n",
      "3.930484881349311e+157\n",
      "2.0274044496202733e+158\n",
      "5.755342156563752e+159\n",
      "2.9686938506423665e+160\n",
      "8.427449624929901e+161\n",
      "4.3470079097895215e+162\n",
      "1.2340171139909257e+164\n",
      "6.365249742301264e+164\n",
      "1.8069502701241722e+166\n",
      "9.320526928562242e+166\n",
      "2.645886545399911e+168\n",
      "1.3647889044907528e+169\n",
      "3.874326663482106e+170\n",
      "1.998437178603159e+171\n",
      "5.673110633358487e+172\n",
      "2.9262775684079534e+173\n",
      "8.30703940420944e+174\n",
      "4.2848984691892515e+175\n",
      "1.2163856501814094e+177\n",
      "6.274303944874709e+177\n",
      "1.7811328175685468e+179\n",
      "9.187356544324134e+179\n",
      "2.6080824887621284e+181\n",
      "1.3452889916416224e+182\n",
      "3.8189708263717853e+183\n",
      "1.9698837879000275e+184\n",
      "5.592054022647513e+185\n",
      "2.884467324077449e+186\n",
      "8.188349587869808e+187\n",
      "4.223676439583333e+188\n",
      "1.199006102259073e+190\n",
      "6.1846575682728535e+190\n",
      "1.7556842411615806e+192\n",
      "9.056088879897263e+192\n",
      "2.570818571194465e+194\n",
      "1.3260676908180383e+195\n",
      "3.764405905714397e+196\n",
      "1.941738364046879e+197\n",
      "5.51215553744555e+198\n",
      "2.8432544586661024e+199\n",
      "8.071355595013998e+200\n",
      "4.1633291417676797e+201\n",
      "1.1818748708849787e+203\n",
      "6.0962920465528204e+203\n",
      "1.7305992704524895e+205\n",
      "8.92669674948727e+205\n",
      "2.5340870752654852e+207\n",
      "1.3071210212503748e+208\n",
      "3.71062060100636e+209\n",
      "1.913995078070462e+210\n",
      "5.433398630617421e+211\n",
      "2.8026304369075292e+212\n",
      "7.956033195953429e+213\n",
      "4.1038440776969037e+214\n",
      "1.1649884081470398e+216\n",
      "6.00918907903933e+216\n"
=======
      "0.5817610062893082 1.4339622641509433\n",
      "5.283147422965866\n"
>>>>>>> Stashed changes
     ]
    },
    {
     "data": {
<<<<<<< Updated upstream
      "image/png": "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\n",
=======
      "image/png": "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\n",
>>>>>>> Stashed changes
      "text/plain": [
       "<Figure size 432x288 with 1 Axes>"
      ]
     },
     "metadata": {},
     "output_type": "display_data"
    }
   ],
   "source": [
<<<<<<< Updated upstream
    "Lin_reg(D1)\n",
    "log_reg(D1)"
=======
    "Lin_reg(D1)"
>>>>>>> Stashed changes
   ]
  },
  {
   "cell_type": "code",
   "execution_count": null,
   "metadata": {},
   "outputs": [],
   "source": []
  },
  {
   "cell_type": "code",
   "execution_count": null,
   "metadata": {},
   "outputs": [],
   "source": []
<<<<<<< Updated upstream
  },
  {
   "cell_type": "code",
   "execution_count": null,
   "metadata": {},
   "outputs": [],
   "source": []
  },
  {
   "cell_type": "code",
   "execution_count": null,
   "metadata": {},
   "outputs": [],
   "source": []
=======
>>>>>>> Stashed changes
  }
 ],
 "metadata": {
  "kernelspec": {
   "display_name": "Python 3",
   "language": "python",
   "name": "python3"
  },
  "language_info": {
   "codemirror_mode": {
    "name": "ipython",
    "version": 3
   },
   "file_extension": ".py",
   "mimetype": "text/x-python",
   "name": "python",
   "nbconvert_exporter": "python",
   "pygments_lexer": "ipython3",
   "version": "3.6.5"
  }
 },
 "nbformat": 4,
 "nbformat_minor": 2
}
