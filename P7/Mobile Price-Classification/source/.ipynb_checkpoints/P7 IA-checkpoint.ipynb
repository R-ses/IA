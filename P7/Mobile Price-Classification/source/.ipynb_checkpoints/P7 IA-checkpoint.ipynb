{
 "cells": [
  {
   "cell_type": "markdown",
   "metadata": {},
   "source": [
    "Practica 7.a"
   ]
  },
  {
   "cell_type": "code",
   "execution_count": 7,
   "metadata": {},
   "outputs": [],
   "source": [
    "#bibliotecas de funciones\n",
    "import numpy as np\n",
    "import pandas as pd\n",
    "import matplotlib.pyplot as plt\n",
    "import seaborn as sns\n",
    "from sklearn.preprocessing import StandardScaler\n",
    "#Modelos \n",
    "from sklearn import tree\n",
    "from sklearn import svm\n",
    "#Sistemas de entrenamiento\n",
    "from sklearn.model_selection import train_test_split\n",
    "from sklearn.model_selection import KFold  \n",
    "from sklearn.metrics import accuracy_score, confusion_matrix\n",
    "#etc\n",
    "import itertools\n",
    " "
   ]
  },
  {
   "cell_type": "code",
   "execution_count": 8,
   "metadata": {},
   "outputs": [],
   "source": [
    "ds = pd.read_csv('../dataset/train.csv') #cargar dataset desde .csv"
   ]
  },
  {
   "cell_type": "code",
   "execution_count": 9,
   "metadata": {},
   "outputs": [],
   "source": [
    "def plot_confusion_matrix(cm, classes,\n",
    "                          normalize=False,\n",
    "                          title='Confusion matrix',\n",
    "                          cmap=plt.cm.Blues):\n",
    "    \"\"\"\n",
    "    This function prints and plots the confusion matrix.\n",
    "    Normalization can be applied by setting `normalize=True`.\n",
    "    \"\"\"\n",
    "    if normalize:\n",
    "        cm = cm.astype('float') / cm.sum(axis=1)[:, np.newaxis]\n",
    "        print(\"Normalized confusion matrix\")\n",
    "    else:\n",
    "        print('Confusion matrix, without normalization')\n",
    "\n",
    "    print(cm)\n",
    "\n",
    "    plt.imshow(cm, interpolation='nearest', cmap=cmap)\n",
    "    plt.title(title)\n",
    "    plt.colorbar()\n",
    "    tick_marks = np.arange(len(classes))\n",
    "    plt.xticks(tick_marks, classes, rotation=45)\n",
    "    plt.yticks(tick_marks, classes)\n",
    "\n",
    "    fmt = '.2f' if normalize else 'd'\n",
    "    thresh = cm.max() / 2.\n",
    "    for i, j in itertools.product(range(cm.shape[0]), range(cm.shape[1])):\n",
    "        plt.text(j, i, format(cm[i, j], fmt),\n",
    "                 horizontalalignment=\"center\",\n",
    "                 color=\"white\" if cm[i, j] > thresh else \"black\")\n",
    "\n",
    "    plt.ylabel('True label')\n",
    "    plt.xlabel('Predicted label')\n",
    "    plt.tight_layout()\n",
    "    "
   ]
  },
  {
   "cell_type": "markdown",
   "metadata": {},
   "source": [
    "Support Vector Machine"
   ]
  },
  {
   "cell_type": "code",
   "execution_count": 15,
   "metadata": {},
   "outputs": [],
   "source": [
    "k_fold = KFold(n_splits=4)\n",
    "\n",
    "y = ds['price_range'] #target\n",
    "X = ds.drop(columns=['price_range']) #eliminar columna\n",
    "\n",
    "#TRAIN_TEST\n",
    "X_train, X_test, y_train, y_test = train_test_split(X, y, test_size=0.3)\n",
    "\n",
    "#KFOLDS\n",
    "\n",
    "    "
   ]
  },
  {
   "cell_type": "code",
   "execution_count": null,
   "metadata": {},
   "outputs": [],
   "source": [
    "\n",
    "best_c = 0\n",
    "ba = 0\n",
    "\n",
    "\n",
    "for i in range(1,10,1):\n",
    "    clf = svm.SVC(C = i,gamma = 0.01, kernel='linear')\n",
    "\n",
    "    \n",
    "\n",
    "\n",
    "    clf.fit(X_train,y_train);\n",
    "    y_pred = clf.predict(X_test)\n",
    "\n",
    "\n",
    "    cnf_matrix = confusion_matrix(y_test, y_pred)\n",
    "    class_names = ['very cheap','affordable','moderate','expensive']\n",
    "    np.set_printoptions(precision=2)\n",
    "\n",
    "     #Plot non-normalized confusion matrix\n",
    "    plt.figure()\n",
    "    plot_confusion_matrix(cnf_matrix, classes=class_names,\n",
    "                         title='Confusion matrix, without normalization')\n",
    "\n",
    "     #Plot normalized confusion matrix\n",
    "    plt.figure()\n",
    "    plot_confusion_matrix(cnf_matrix, classes=class_names, normalize=True,\n",
    "                        title='Normalized confusion matrix')\n",
    "    plt.show()\n",
    "    \n",
    "    n = accuracy_score(y_test, y_pred)\n",
    "    if (n > ba):\n",
    "        best_c = i\n",
    "        ba = accuracy_score(y_test,y_pred)\n",
    "        \n",
    "\n",
    "print(\"Best C : {} with an accuracy of {}\".format(best_c,ba))\n",
    "#clf.fit(X_train, y_train)  \n",
    "#SVC(C=1.0, cache_size=200, class_weight=None, coef0=0.0,\n",
    "#    decision_function_shape='ovr', degree=3, gamma='scale', kernel='linear',\n",
    "#    max_iter=-1, probability=False, random_state=None, shrinking=True,\n",
    "#    tol=0.001, verbose=False)"
   ]
  },
  {
   "cell_type": "markdown",
   "metadata": {},
   "source": [
    "Decision Tree "
   ]
  },
  {
   "cell_type": "code",
   "execution_count": 19,
   "metadata": {},
   "outputs": [
    {
     "data": {
      "text/plain": [
       "array([2, 3, 2, 3, 2, 0, 2, 0, 0, 0, 2, 1, 0, 0, 3, 2, 2, 0, 0, 1, 2, 1,\n",
       "       0, 3, 1, 3, 2, 1, 2, 1, 1, 2, 0, 0, 2, 0, 0, 2, 0, 0, 0, 2, 3, 0,\n",
       "       2, 3, 3, 2, 2, 1, 0, 2, 1, 0, 0, 1, 1, 2, 2, 2, 2, 1, 3, 2, 2, 3,\n",
       "       1, 2, 1, 3, 2, 2, 2, 1, 0, 1, 2, 2, 2, 1, 2, 0, 0, 0, 2, 0, 1, 0,\n",
       "       1, 2, 2, 1, 2, 0, 1, 2, 0, 3, 3, 3, 1, 3, 1, 3, 2, 0, 1, 0, 3, 2,\n",
       "       2, 2, 2, 0, 0, 0, 1, 0, 1, 2, 0, 1, 0, 0, 2, 3, 3, 3, 3, 3, 3, 0,\n",
       "       3, 2, 2, 1, 3, 0, 1, 0, 0, 3, 1, 0, 3, 2, 2, 1, 3, 2, 3, 1, 1, 2,\n",
       "       1, 3, 0, 2, 2, 3, 0, 0, 0, 0, 0, 0, 0, 2, 0, 0, 1, 3, 0, 2, 0, 2,\n",
       "       1, 2, 2, 0, 2, 2, 3, 2, 3, 1, 0, 0, 1, 0, 3, 2, 0, 0, 1, 1, 1, 3,\n",
       "       2, 2, 1, 0, 0, 1, 1, 3, 1, 1, 3, 1, 3, 3, 0, 2, 0, 3, 1, 1, 3, 2,\n",
       "       0, 2, 2, 3, 3, 2, 2, 0, 2, 0, 3, 0, 2, 0, 3, 1, 0, 2, 2, 3, 0, 3,\n",
       "       3, 2, 2, 1, 0, 1, 2, 0, 1, 1, 2, 2, 1, 2, 2, 3, 2, 1, 0, 3, 3, 2,\n",
       "       3, 0, 3, 1, 0, 0, 3, 1, 1, 0, 3, 2, 3, 2, 2, 2, 3, 2, 1, 3, 2, 2,\n",
       "       3, 3, 2, 2, 1, 2, 3, 0, 2, 3, 0, 3, 2, 3, 1, 3, 0, 2, 1, 1, 2, 2,\n",
       "       3, 0, 3, 0, 2, 0, 2, 0, 2, 3, 2, 1, 1, 3, 0, 1, 0, 0, 1, 0, 3, 2,\n",
       "       0, 2, 3, 3, 3, 2, 1, 2, 2, 2, 1, 2, 0, 1, 0, 1, 2, 2, 0, 1, 3, 0,\n",
       "       2, 0, 1, 3, 1, 3, 1, 0, 0, 2, 1, 0, 0, 3, 1, 1, 2, 0, 3, 1, 2, 2,\n",
       "       0, 2, 0, 1, 2, 1, 1, 3, 3, 1, 2, 2, 0, 1, 1, 1, 2, 3, 3, 0, 0, 0,\n",
       "       1, 2, 2, 1, 2, 1, 1, 2, 2, 0, 0, 3, 2, 1, 3, 1, 0, 1, 3, 0, 3, 3,\n",
       "       0, 0, 1, 2, 2, 3, 0, 3, 2, 3, 0, 3, 2, 3, 1, 1, 3, 0, 3, 3, 2, 3,\n",
       "       1, 1, 0, 2, 1, 2, 1, 0, 2, 0, 0, 2, 0, 2, 2, 3, 0, 2, 2, 2, 3, 0,\n",
       "       0, 2, 2, 0, 1, 0, 1, 3, 2, 2, 1, 3, 3, 1, 2, 1, 1, 0, 1, 1, 1, 0,\n",
       "       1, 3, 1, 1, 0, 2, 2, 0, 1, 1, 2, 3, 1, 0, 3, 3, 2, 0, 0, 1, 1, 0,\n",
       "       2, 1, 1, 3, 3, 1, 0, 1, 2, 2, 1, 1, 2, 0, 3, 2, 1, 2, 3, 0, 3, 0,\n",
       "       2, 0, 3, 1, 0, 2, 1, 2, 2, 0, 0, 3, 2, 0, 1, 2, 2, 0, 3, 1, 2, 1,\n",
       "       0, 3, 3, 3, 3, 2, 2, 1, 0, 1, 1, 1, 2, 3, 2, 3, 0, 0, 0, 0, 0, 1,\n",
       "       0, 3, 0, 0, 0, 3, 3, 2, 3, 3, 2, 1, 2, 1, 3, 1, 2, 1, 0, 3, 3, 2,\n",
       "       1, 1, 1, 2, 0, 0], dtype=int64)"
      ]
     },
     "execution_count": 19,
     "metadata": {},
     "output_type": "execute_result"
    }
   ],
   "source": [
    "\n",
    "dst = tree.DecisionTreeClassifier()\n",
    "X_train, X_test, y_train, y_test = train_test_split(X, y, test_size=0.3)\n",
    "\n",
    "\n",
    "dst = dst.fit(X_train,y_train)\n",
    "\n",
    "dst.predict(X_test)"
   ]
  },
  {
   "cell_type": "code",
   "execution_count": 5,
   "metadata": {},
   "outputs": [
    {
     "ename": "ModuleNotFoundError",
     "evalue": "No module named 'graphviz'",
     "output_type": "error",
     "traceback": [
      "\u001b[1;31m---------------------------------------------------------------------------\u001b[0m",
      "\u001b[1;31mModuleNotFoundError\u001b[0m                       Traceback (most recent call last)",
      "\u001b[1;32m<ipython-input-5-f7133d3517ab>\u001b[0m in \u001b[0;36m<module>\u001b[1;34m()\u001b[0m\n\u001b[1;32m----> 1\u001b[1;33m \u001b[1;32mimport\u001b[0m \u001b[0mgraphviz\u001b[0m\u001b[1;33m\u001b[0m\u001b[0m\n\u001b[0m",
      "\u001b[1;31mModuleNotFoundError\u001b[0m: No module named 'graphviz'"
     ]
    }
   ],
   "source": [
    "import graphviz"
   ]
  },
  {
   "cell_type": "code",
   "execution_count": null,
   "metadata": {},
   "outputs": [],
   "source": []
  },
  {
   "cell_type": "code",
   "execution_count": null,
   "metadata": {},
   "outputs": [],
   "source": []
  },
  {
   "cell_type": "code",
   "execution_count": null,
   "metadata": {},
   "outputs": [],
   "source": []
  }
 ],
 "metadata": {
  "kernelspec": {
   "display_name": "Python 3",
   "language": "python",
   "name": "python3"
  },
  "language_info": {
   "codemirror_mode": {
    "name": "ipython",
    "version": 3
   },
   "file_extension": ".py",
   "mimetype": "text/x-python",
   "name": "python",
   "nbconvert_exporter": "python",
   "pygments_lexer": "ipython3",
   "version": "3.6.5"
  }
 },
 "nbformat": 4,
 "nbformat_minor": 2
}
